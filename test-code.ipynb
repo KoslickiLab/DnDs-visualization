{
 "cells": [
  {
   "cell_type": "code",
   "execution_count": 3,
   "metadata": {
    "vscode": {
     "languageId": "r"
    }
   },
   "outputs": [],
   "source": [
    "setwd('/home/other/jpf5265/DnDs-visualization/test_dataset/')"
   ]
  },
  {
   "cell_type": "code",
   "execution_count": 23,
   "metadata": {
    "vscode": {
     "languageId": "r"
    }
   },
   "outputs": [],
   "source": [
    "library(dplyr)\n",
    "# Load the datasets\n",
    "taxonomy <- read.csv('marinus_taxonomy.csv')\n",
    "dnds <- read.csv('dnds_constant_15.csv')\n",
    "\n",
    "# Drop rows where column dNdS_ratio or column dNdS_ratio_constant is NA\n",
    "dnds <- dnds %>%\n",
    "  filter(!is.na(dNdS_ratio) & !is.na(dNdS_ratio_constant))\n",
    "\n",
    "\n",
    "# Convert CSV to tibble table so that we can use parse_tax_data\n",
    "taxonomy_tibble <- as_tibble(taxonomy)\n",
    "\n",
    "# Concatenate taxonomic columns into a single \"lineage\" column\n",
    "# data <- taxonomy_tibble %>%\n",
    "#   mutate(lineage = paste(\"r__Root\",\n",
    "#                          paste0(\"p__\", phylum),\n",
    "#                          paste0(\"c__\", class),\n",
    "#                          paste0(\"o__\", order),\n",
    "#                          paste0(\"f__\", family),\n",
    "#                          paste0(\"g__\", genus),\n",
    "#                          paste0(\"s__\", species),\n",
    "#                          sep = \";\")) %>%\n",
    "#   select(NCBI_fasta_name, custom_fasta_name, lineage, strain)\n",
    "data <- taxonomy_tibble %>%\n",
    "  mutate(lineage = paste(\n",
    "                         paste0(\"p__\", phylum),\n",
    "                         paste0(\"c__\", class),\n",
    "                         paste0(\"o__\", order),\n",
    "                         paste0(\"f__\", family),\n",
    "                         paste0(\"g__\", genus),\n",
    "                         paste0(\"s__\", species),\n",
    "                         sep = \";\")) %>%\n",
    "  select(NCBI_fasta_name, custom_fasta_name, lineage, strain)\n",
    "\n"
   ]
  },
  {
   "cell_type": "code",
   "execution_count": 5,
   "metadata": {
    "vscode": {
     "languageId": "r"
    }
   },
   "outputs": [
    {
     "name": "stderr",
     "output_type": "stream",
     "text": [
      "This is metacoder version 0.3.7 (stable)\n",
      "\n"
     ]
    }
   ],
   "source": [
    "library(metacoder)\n",
    "obj <- parse_tax_data(data,\n",
    "                      class_cols = \"lineage\", # the column that contains taxonomic information\n",
    "                      class_sep = \";\", # The character used to separate taxa in the classification\n",
    "                      class_regex = \"^(.+)__(.+)$\", # Regex identifying where the data for each taxon is\n",
    "                      class_key = c(tax_rank = \"info\", # A key describing each regex capture group\n",
    "                                    tax_name = \"taxon_name\"))\n"
   ]
  },
  {
   "cell_type": "code",
   "execution_count": 6,
   "metadata": {
    "vscode": {
     "languageId": "r"
    }
   },
   "outputs": [
    {
     "data": {
      "text/html": [
       "<table class=\"dataframe\">\n",
       "<caption>A data.frame: 6 × 35</caption>\n",
       "<thead>\n",
       "\t<tr><th></th><th scope=col>X</th><th scope=col>A</th><th scope=col>B</th><th scope=col>containment_nt</th><th scope=col>ksize</th><th scope=col>containment_protein</th><th scope=col>sequence_comparison</th><th scope=col>dN_constant</th><th scope=col>dS_constant</th><th scope=col>dN</th><th scope=col>⋯</th><th scope=col>family_B</th><th scope=col>genus_B</th><th scope=col>species_B</th><th scope=col>strain_B</th><th scope=col>phylum</th><th scope=col>class</th><th scope=col>order</th><th scope=col>family</th><th scope=col>genus</th><th scope=col>species</th></tr>\n",
       "\t<tr><th></th><th scope=col>&lt;int&gt;</th><th scope=col>&lt;chr&gt;</th><th scope=col>&lt;chr&gt;</th><th scope=col>&lt;dbl&gt;</th><th scope=col>&lt;int&gt;</th><th scope=col>&lt;dbl&gt;</th><th scope=col>&lt;chr&gt;</th><th scope=col>&lt;dbl&gt;</th><th scope=col>&lt;dbl&gt;</th><th scope=col>&lt;dbl&gt;</th><th scope=col>⋯</th><th scope=col>&lt;chr&gt;</th><th scope=col>&lt;chr&gt;</th><th scope=col>&lt;chr&gt;</th><th scope=col>&lt;chr&gt;</th><th scope=col>&lt;chr&gt;</th><th scope=col>&lt;chr&gt;</th><th scope=col>&lt;chr&gt;</th><th scope=col>&lt;chr&gt;</th><th scope=col>&lt;chr&gt;</th><th scope=col>&lt;chr&gt;</th></tr>\n",
       "</thead>\n",
       "<tbody>\n",
       "\t<tr><th scope=row>1</th><td>1</td><td>P.AS9601</td><td>P.MED4   </td><td>0.0042441309</td><td>15</td><td>0.037111349</td><td>P.AS9601_vs_P.MED4   </td><td>0.08840859</td><td>0.14033818</td><td>0.19715116</td><td>⋯</td><td>Prochlorococcaceae</td><td>Prochlorococcus</td><td>Prochlorococcus marinus</td><td>MED4    </td><td>Cyanobacteriota</td><td>Cyanophyceae</td><td>Synechococcales</td><td>Prochlorococcaceae</td><td>Prochlorococcus</td><td>Prochlorococcus marinus</td></tr>\n",
       "\t<tr><th scope=row>2</th><td>2</td><td>P.AS9601</td><td>P.MIT9211</td><td>0.0013663139</td><td>15</td><td>0.008954804</td><td>P.AS9601_vs_P.MIT9211</td><td>0.12096500</td><td>0.11171993</td><td>0.26975195</td><td>⋯</td><td>Prochlorococcaceae</td><td>Prochlorococcus</td><td>Prochlorococcus marinus</td><td>MIT 9211</td><td>Cyanobacteriota</td><td>Cyanophyceae</td><td>Synechococcales</td><td>Prochlorococcaceae</td><td>Prochlorococcus</td><td>Prochlorococcus marinus</td></tr>\n",
       "\t<tr><th scope=row>3</th><td>3</td><td>P.AS9601</td><td>P.MIT9215</td><td>0.0585897462</td><td>15</td><td>0.151217769</td><td>P.AS9601_vs_P.MIT9215</td><td>0.05306206</td><td>0.07013799</td><td>0.11832839</td><td>⋯</td><td>Prochlorococcaceae</td><td>Prochlorococcus</td><td>Prochlorococcus marinus</td><td>MIT 9215</td><td>Cyanobacteriota</td><td>Cyanophyceae</td><td>Synechococcales</td><td>Prochlorococcaceae</td><td>Prochlorococcus</td><td>Prochlorococcus marinus</td></tr>\n",
       "\t<tr><th scope=row>4</th><td>4</td><td>P.AS9601</td><td>P.MIT9301</td><td>0.1227571800</td><td>15</td><td>0.234816347</td><td>P.AS9601_vs_P.MIT9301</td><td>0.04129057</td><td>0.04989820</td><td>0.09207797</td><td>⋯</td><td>Prochlorococcaceae</td><td>Prochlorococcus</td><td>Prochlorococcus marinus</td><td>MIT 9301</td><td>Cyanobacteriota</td><td>Cyanophyceae</td><td>Synechococcales</td><td>Prochlorococcaceae</td><td>Prochlorococcus</td><td>Prochlorococcus marinus</td></tr>\n",
       "\t<tr><th scope=row>5</th><td>5</td><td>P.AS9601</td><td>P.MIT9303</td><td>0.0005601764</td><td>15</td><td>0.004470131</td><td>P.AS9601_vs_P.MIT9303</td><td>0.13578669</td><td>0.11707740</td><td>0.30280433</td><td>⋯</td><td>Prochlorococcaceae</td><td>Prochlorococcus</td><td>Prochlorococcus marinus</td><td>MIT 9303</td><td>Cyanobacteriota</td><td>Cyanophyceae</td><td>Synechococcales</td><td>Prochlorococcaceae</td><td>Prochlorococcus</td><td>Prochlorococcus marinus</td></tr>\n",
       "\t<tr><th scope=row>6</th><td>6</td><td>P.AS9601</td><td>P.MIT9312</td><td>0.0443258731</td><td>15</td><td>0.127594205</td><td>P.AS9601_vs_P.MIT9312</td><td>0.05751411</td><td>0.07705193</td><td>0.12825648</td><td>⋯</td><td>Prochlorococcaceae</td><td>Prochlorococcus</td><td>Prochlorococcus marinus</td><td>MIT 9312</td><td>Cyanobacteriota</td><td>Cyanophyceae</td><td>Synechococcales</td><td>Prochlorococcaceae</td><td>Prochlorococcus</td><td>Prochlorococcus marinus</td></tr>\n",
       "</tbody>\n",
       "</table>\n"
      ],
      "text/latex": [
       "A data.frame: 6 × 35\n",
       "\\begin{tabular}{r|lllllllllllllllllllll}\n",
       "  & X & A & B & containment\\_nt & ksize & containment\\_protein & sequence\\_comparison & dN\\_constant & dS\\_constant & dN & ⋯ & family\\_B & genus\\_B & species\\_B & strain\\_B & phylum & class & order & family & genus & species\\\\\n",
       "  & <int> & <chr> & <chr> & <dbl> & <int> & <dbl> & <chr> & <dbl> & <dbl> & <dbl> & ⋯ & <chr> & <chr> & <chr> & <chr> & <chr> & <chr> & <chr> & <chr> & <chr> & <chr>\\\\\n",
       "\\hline\n",
       "\t1 & 1 & P.AS9601 & P.MED4    & 0.0042441309 & 15 & 0.037111349 & P.AS9601\\_vs\\_P.MED4    & 0.08840859 & 0.14033818 & 0.19715116 & ⋯ & Prochlorococcaceae & Prochlorococcus & Prochlorococcus marinus & MED4     & Cyanobacteriota & Cyanophyceae & Synechococcales & Prochlorococcaceae & Prochlorococcus & Prochlorococcus marinus\\\\\n",
       "\t2 & 2 & P.AS9601 & P.MIT9211 & 0.0013663139 & 15 & 0.008954804 & P.AS9601\\_vs\\_P.MIT9211 & 0.12096500 & 0.11171993 & 0.26975195 & ⋯ & Prochlorococcaceae & Prochlorococcus & Prochlorococcus marinus & MIT 9211 & Cyanobacteriota & Cyanophyceae & Synechococcales & Prochlorococcaceae & Prochlorococcus & Prochlorococcus marinus\\\\\n",
       "\t3 & 3 & P.AS9601 & P.MIT9215 & 0.0585897462 & 15 & 0.151217769 & P.AS9601\\_vs\\_P.MIT9215 & 0.05306206 & 0.07013799 & 0.11832839 & ⋯ & Prochlorococcaceae & Prochlorococcus & Prochlorococcus marinus & MIT 9215 & Cyanobacteriota & Cyanophyceae & Synechococcales & Prochlorococcaceae & Prochlorococcus & Prochlorococcus marinus\\\\\n",
       "\t4 & 4 & P.AS9601 & P.MIT9301 & 0.1227571800 & 15 & 0.234816347 & P.AS9601\\_vs\\_P.MIT9301 & 0.04129057 & 0.04989820 & 0.09207797 & ⋯ & Prochlorococcaceae & Prochlorococcus & Prochlorococcus marinus & MIT 9301 & Cyanobacteriota & Cyanophyceae & Synechococcales & Prochlorococcaceae & Prochlorococcus & Prochlorococcus marinus\\\\\n",
       "\t5 & 5 & P.AS9601 & P.MIT9303 & 0.0005601764 & 15 & 0.004470131 & P.AS9601\\_vs\\_P.MIT9303 & 0.13578669 & 0.11707740 & 0.30280433 & ⋯ & Prochlorococcaceae & Prochlorococcus & Prochlorococcus marinus & MIT 9303 & Cyanobacteriota & Cyanophyceae & Synechococcales & Prochlorococcaceae & Prochlorococcus & Prochlorococcus marinus\\\\\n",
       "\t6 & 6 & P.AS9601 & P.MIT9312 & 0.0443258731 & 15 & 0.127594205 & P.AS9601\\_vs\\_P.MIT9312 & 0.05751411 & 0.07705193 & 0.12825648 & ⋯ & Prochlorococcaceae & Prochlorococcus & Prochlorococcus marinus & MIT 9312 & Cyanobacteriota & Cyanophyceae & Synechococcales & Prochlorococcaceae & Prochlorococcus & Prochlorococcus marinus\\\\\n",
       "\\end{tabular}\n"
      ],
      "text/markdown": [
       "\n",
       "A data.frame: 6 × 35\n",
       "\n",
       "| <!--/--> | X &lt;int&gt; | A &lt;chr&gt; | B &lt;chr&gt; | containment_nt &lt;dbl&gt; | ksize &lt;int&gt; | containment_protein &lt;dbl&gt; | sequence_comparison &lt;chr&gt; | dN_constant &lt;dbl&gt; | dS_constant &lt;dbl&gt; | dN &lt;dbl&gt; | ⋯ ⋯ | family_B &lt;chr&gt; | genus_B &lt;chr&gt; | species_B &lt;chr&gt; | strain_B &lt;chr&gt; | phylum &lt;chr&gt; | class &lt;chr&gt; | order &lt;chr&gt; | family &lt;chr&gt; | genus &lt;chr&gt; | species &lt;chr&gt; |\n",
       "|---|---|---|---|---|---|---|---|---|---|---|---|---|---|---|---|---|---|---|---|---|---|\n",
       "| 1 | 1 | P.AS9601 | P.MED4    | 0.0042441309 | 15 | 0.037111349 | P.AS9601_vs_P.MED4    | 0.08840859 | 0.14033818 | 0.19715116 | ⋯ | Prochlorococcaceae | Prochlorococcus | Prochlorococcus marinus | MED4     | Cyanobacteriota | Cyanophyceae | Synechococcales | Prochlorococcaceae | Prochlorococcus | Prochlorococcus marinus |\n",
       "| 2 | 2 | P.AS9601 | P.MIT9211 | 0.0013663139 | 15 | 0.008954804 | P.AS9601_vs_P.MIT9211 | 0.12096500 | 0.11171993 | 0.26975195 | ⋯ | Prochlorococcaceae | Prochlorococcus | Prochlorococcus marinus | MIT 9211 | Cyanobacteriota | Cyanophyceae | Synechococcales | Prochlorococcaceae | Prochlorococcus | Prochlorococcus marinus |\n",
       "| 3 | 3 | P.AS9601 | P.MIT9215 | 0.0585897462 | 15 | 0.151217769 | P.AS9601_vs_P.MIT9215 | 0.05306206 | 0.07013799 | 0.11832839 | ⋯ | Prochlorococcaceae | Prochlorococcus | Prochlorococcus marinus | MIT 9215 | Cyanobacteriota | Cyanophyceae | Synechococcales | Prochlorococcaceae | Prochlorococcus | Prochlorococcus marinus |\n",
       "| 4 | 4 | P.AS9601 | P.MIT9301 | 0.1227571800 | 15 | 0.234816347 | P.AS9601_vs_P.MIT9301 | 0.04129057 | 0.04989820 | 0.09207797 | ⋯ | Prochlorococcaceae | Prochlorococcus | Prochlorococcus marinus | MIT 9301 | Cyanobacteriota | Cyanophyceae | Synechococcales | Prochlorococcaceae | Prochlorococcus | Prochlorococcus marinus |\n",
       "| 5 | 5 | P.AS9601 | P.MIT9303 | 0.0005601764 | 15 | 0.004470131 | P.AS9601_vs_P.MIT9303 | 0.13578669 | 0.11707740 | 0.30280433 | ⋯ | Prochlorococcaceae | Prochlorococcus | Prochlorococcus marinus | MIT 9303 | Cyanobacteriota | Cyanophyceae | Synechococcales | Prochlorococcaceae | Prochlorococcus | Prochlorococcus marinus |\n",
       "| 6 | 6 | P.AS9601 | P.MIT9312 | 0.0443258731 | 15 | 0.127594205 | P.AS9601_vs_P.MIT9312 | 0.05751411 | 0.07705193 | 0.12825648 | ⋯ | Prochlorococcaceae | Prochlorococcus | Prochlorococcus marinus | MIT 9312 | Cyanobacteriota | Cyanophyceae | Synechococcales | Prochlorococcaceae | Prochlorococcus | Prochlorococcus marinus |\n",
       "\n"
      ],
      "text/plain": [
       "  X A        B         containment_nt ksize containment_protein\n",
       "1 1 P.AS9601 P.MED4    0.0042441309   15    0.037111349        \n",
       "2 2 P.AS9601 P.MIT9211 0.0013663139   15    0.008954804        \n",
       "3 3 P.AS9601 P.MIT9215 0.0585897462   15    0.151217769        \n",
       "4 4 P.AS9601 P.MIT9301 0.1227571800   15    0.234816347        \n",
       "5 5 P.AS9601 P.MIT9303 0.0005601764   15    0.004470131        \n",
       "6 6 P.AS9601 P.MIT9312 0.0443258731   15    0.127594205        \n",
       "  sequence_comparison   dN_constant dS_constant dN         ⋯ family_B          \n",
       "1 P.AS9601_vs_P.MED4    0.08840859  0.14033818  0.19715116 ⋯ Prochlorococcaceae\n",
       "2 P.AS9601_vs_P.MIT9211 0.12096500  0.11171993  0.26975195 ⋯ Prochlorococcaceae\n",
       "3 P.AS9601_vs_P.MIT9215 0.05306206  0.07013799  0.11832839 ⋯ Prochlorococcaceae\n",
       "4 P.AS9601_vs_P.MIT9301 0.04129057  0.04989820  0.09207797 ⋯ Prochlorococcaceae\n",
       "5 P.AS9601_vs_P.MIT9303 0.13578669  0.11707740  0.30280433 ⋯ Prochlorococcaceae\n",
       "6 P.AS9601_vs_P.MIT9312 0.05751411  0.07705193  0.12825648 ⋯ Prochlorococcaceae\n",
       "  genus_B         species_B               strain_B phylum          class       \n",
       "1 Prochlorococcus Prochlorococcus marinus MED4     Cyanobacteriota Cyanophyceae\n",
       "2 Prochlorococcus Prochlorococcus marinus MIT 9211 Cyanobacteriota Cyanophyceae\n",
       "3 Prochlorococcus Prochlorococcus marinus MIT 9215 Cyanobacteriota Cyanophyceae\n",
       "4 Prochlorococcus Prochlorococcus marinus MIT 9301 Cyanobacteriota Cyanophyceae\n",
       "5 Prochlorococcus Prochlorococcus marinus MIT 9303 Cyanobacteriota Cyanophyceae\n",
       "6 Prochlorococcus Prochlorococcus marinus MIT 9312 Cyanobacteriota Cyanophyceae\n",
       "  order           family             genus           species                \n",
       "1 Synechococcales Prochlorococcaceae Prochlorococcus Prochlorococcus marinus\n",
       "2 Synechococcales Prochlorococcaceae Prochlorococcus Prochlorococcus marinus\n",
       "3 Synechococcales Prochlorococcaceae Prochlorococcus Prochlorococcus marinus\n",
       "4 Synechococcales Prochlorococcaceae Prochlorococcus Prochlorococcus marinus\n",
       "5 Synechococcales Prochlorococcaceae Prochlorococcus Prochlorococcus marinus\n",
       "6 Synechococcales Prochlorococcaceae Prochlorococcus Prochlorococcus marinus"
      ]
     },
     "metadata": {},
     "output_type": "display_data"
    }
   ],
   "source": [
    "# Load the data\n",
    "taxonomy <- read.csv('marinus_taxonomy.csv')\n",
    "dnds <- read.csv('dnds_constant_15.csv')\n",
    "\n",
    "# Drop rows where column dNdS_ratio or column dNdS_ratio_constant is NA\n",
    "dnds <- dnds %>%\n",
    "  filter(!is.na(dNdS_ratio) & !is.na(dNdS_ratio_constant))\n",
    "\n",
    "\n",
    "# Merge the dataframes to include taxonomic information for both A and B\n",
    "merged_data <- dnds %>%\n",
    "  left_join(taxonomy, by = c(\"A\" = \"custom_fasta_name\")) %>%\n",
    "  left_join(taxonomy, by = c(\"B\" = \"custom_fasta_name\"), suffix = c(\"_A\", \"_B\"))\n",
    "\n",
    "# # # Create combined taxonomic columns\n",
    "# # merged_data <- merged_data %>%\n",
    "# #   mutate(lineage_A = paste(\"r__Root\", paste0(\"p__\", phylum_A), paste0(\"c__\", class_A), \n",
    "# #          paste0(\"o__\", order_A), paste0(\"f__\", family_A), paste0(\"g__\", genus_A), paste0(\"s__\", species_A), \n",
    "# #          sep = \";\"),\n",
    "# #          lineage_B = paste(\"r__Root\", paste0(\"p__\", phylum_B), paste0(\"c__\", class_B), \n",
    "# #          paste0(\"o__\", order_B), paste0(\"f__\", family_B), paste0(\"g__\", genus_B), paste0(\"s__\", species_B), \n",
    "# #          sep = \";\"))\n",
    "\n",
    "# Function to compare and generate new column \n",
    "# (for each level, identify if genome A and genome B have the same taxonomic classification,\n",
    "# if they do, return the classification, if they don't, return \"Unmatched\")\n",
    "compare_columns <- function(df, col_A, col_B) {\n",
    "  ifelse(df[[col_A]] == df[[col_B]], df[[col_A]], \"Unmatched\")\n",
    "}\n",
    "\n",
    "# Creating new columns based on the comparison\n",
    "merged_data$phylum <- compare_columns(merged_data,\"phylum_A\", \"phylum_B\")\n",
    "merged_data$class <- compare_columns(merged_data,\"class_A\", \"class_B\")\n",
    "merged_data$order <- compare_columns(merged_data,\"order_A\", \"order_B\")\n",
    "merged_data$family <- compare_columns(merged_data,\"family_A\", \"family_B\")\n",
    "merged_data$genus <- compare_columns(merged_data,\"genus_A\", \"genus_B\")\n",
    "merged_data$species <- compare_columns(merged_data,\"species_A\", \"species_B\")\n",
    "head(merged_data)\n",
    "\n",
    "\n"
   ]
  },
  {
   "cell_type": "code",
   "execution_count": 7,
   "metadata": {
    "vscode": {
     "languageId": "r"
    }
   },
   "outputs": [
    {
     "data": {
      "text/html": [
       "<table class=\"dataframe\">\n",
       "<caption>A tibble: 12 × 4</caption>\n",
       "<thead>\n",
       "\t<tr><th scope=col>taxon</th><th scope=col>average_dnds</th><th scope=col>average_dnds_constant</th><th scope=col>level</th></tr>\n",
       "\t<tr><th scope=col>&lt;chr&gt;</th><th scope=col>&lt;dbl&gt;</th><th scope=col>&lt;dbl&gt;</th><th scope=col>&lt;chr&gt;</th></tr>\n",
       "</thead>\n",
       "<tbody>\n",
       "\t<tr><td>Cyanobacteriota        </td><td>3.037564</td><td>1.0488449</td><td>Phylum </td></tr>\n",
       "\t<tr><td>Cyanophyceae           </td><td>3.037564</td><td>1.0488449</td><td>Class  </td></tr>\n",
       "\t<tr><td>Synechococcales        </td><td>3.037564</td><td>1.0488449</td><td>Order  </td></tr>\n",
       "\t<tr><td>Prochlorococcaceae     </td><td>2.773987</td><td>0.9578339</td><td>Family </td></tr>\n",
       "\t<tr><td>Synechococcaceae       </td><td>2.865374</td><td>0.9893892</td><td>Family </td></tr>\n",
       "\t<tr><td>Unmatched              </td><td>3.256035</td><td>1.1242813</td><td>Family </td></tr>\n",
       "\t<tr><td>Prochlorococcus        </td><td>2.773987</td><td>0.9578339</td><td>Genus  </td></tr>\n",
       "\t<tr><td>Synechococcus          </td><td>2.865374</td><td>0.9893892</td><td>Genus  </td></tr>\n",
       "\t<tr><td>Unmatched              </td><td>3.256035</td><td>1.1242813</td><td>Genus  </td></tr>\n",
       "\t<tr><td>Prochlorococcus marinus</td><td>2.773987</td><td>0.9578339</td><td>Species</td></tr>\n",
       "\t<tr><td>Synechococcus marinus  </td><td>2.865374</td><td>0.9893892</td><td>Species</td></tr>\n",
       "\t<tr><td>Unmatched              </td><td>3.256035</td><td>1.1242813</td><td>Species</td></tr>\n",
       "</tbody>\n",
       "</table>\n"
      ],
      "text/latex": [
       "A tibble: 12 × 4\n",
       "\\begin{tabular}{llll}\n",
       " taxon & average\\_dnds & average\\_dnds\\_constant & level\\\\\n",
       " <chr> & <dbl> & <dbl> & <chr>\\\\\n",
       "\\hline\n",
       "\t Cyanobacteriota         & 3.037564 & 1.0488449 & Phylum \\\\\n",
       "\t Cyanophyceae            & 3.037564 & 1.0488449 & Class  \\\\\n",
       "\t Synechococcales         & 3.037564 & 1.0488449 & Order  \\\\\n",
       "\t Prochlorococcaceae      & 2.773987 & 0.9578339 & Family \\\\\n",
       "\t Synechococcaceae        & 2.865374 & 0.9893892 & Family \\\\\n",
       "\t Unmatched               & 3.256035 & 1.1242813 & Family \\\\\n",
       "\t Prochlorococcus         & 2.773987 & 0.9578339 & Genus  \\\\\n",
       "\t Synechococcus           & 2.865374 & 0.9893892 & Genus  \\\\\n",
       "\t Unmatched               & 3.256035 & 1.1242813 & Genus  \\\\\n",
       "\t Prochlorococcus marinus & 2.773987 & 0.9578339 & Species\\\\\n",
       "\t Synechococcus marinus   & 2.865374 & 0.9893892 & Species\\\\\n",
       "\t Unmatched               & 3.256035 & 1.1242813 & Species\\\\\n",
       "\\end{tabular}\n"
      ],
      "text/markdown": [
       "\n",
       "A tibble: 12 × 4\n",
       "\n",
       "| taxon &lt;chr&gt; | average_dnds &lt;dbl&gt; | average_dnds_constant &lt;dbl&gt; | level &lt;chr&gt; |\n",
       "|---|---|---|---|\n",
       "| Cyanobacteriota         | 3.037564 | 1.0488449 | Phylum  |\n",
       "| Cyanophyceae            | 3.037564 | 1.0488449 | Class   |\n",
       "| Synechococcales         | 3.037564 | 1.0488449 | Order   |\n",
       "| Prochlorococcaceae      | 2.773987 | 0.9578339 | Family  |\n",
       "| Synechococcaceae        | 2.865374 | 0.9893892 | Family  |\n",
       "| Unmatched               | 3.256035 | 1.1242813 | Family  |\n",
       "| Prochlorococcus         | 2.773987 | 0.9578339 | Genus   |\n",
       "| Synechococcus           | 2.865374 | 0.9893892 | Genus   |\n",
       "| Unmatched               | 3.256035 | 1.1242813 | Genus   |\n",
       "| Prochlorococcus marinus | 2.773987 | 0.9578339 | Species |\n",
       "| Synechococcus marinus   | 2.865374 | 0.9893892 | Species |\n",
       "| Unmatched               | 3.256035 | 1.1242813 | Species |\n",
       "\n"
      ],
      "text/plain": [
       "   taxon                   average_dnds average_dnds_constant level  \n",
       "1  Cyanobacteriota         3.037564     1.0488449             Phylum \n",
       "2  Cyanophyceae            3.037564     1.0488449             Class  \n",
       "3  Synechococcales         3.037564     1.0488449             Order  \n",
       "4  Prochlorococcaceae      2.773987     0.9578339             Family \n",
       "5  Synechococcaceae        2.865374     0.9893892             Family \n",
       "6  Unmatched               3.256035     1.1242813             Family \n",
       "7  Prochlorococcus         2.773987     0.9578339             Genus  \n",
       "8  Synechococcus           2.865374     0.9893892             Genus  \n",
       "9  Unmatched               3.256035     1.1242813             Genus  \n",
       "10 Prochlorococcus marinus 2.773987     0.9578339             Species\n",
       "11 Synechococcus marinus   2.865374     0.9893892             Species\n",
       "12 Unmatched               3.256035     1.1242813             Species"
      ]
     },
     "metadata": {},
     "output_type": "display_data"
    }
   ],
   "source": [
    "# Function to calculate averages\n",
    "calculate_averages <- function(df, taxon_level) {\n",
    "# sym(taxon_level) converts the string of each taxonomic level (such as \"phylum\", \"order\") \n",
    "# into a symbol that group_by can use. \n",
    "# (!!): unquotes the symbol, making group_by captures the actual taxonomic level rather than the expression\n",
    "\n",
    "  df %>%\n",
    "    group_by(!!sym(taxon_level)) %>% #\n",
    "    summarise(\n",
    "      average_dnds = mean(dNdS_ratio, na.rm = TRUE),\n",
    "      average_dnds_constant = mean(dNdS_ratio_constant, na.rm = TRUE)\n",
    "    ) %>%\n",
    "    rename(taxon = !!sym(taxon_level)) # Change the name of the grouping column to taxon\n",
    "}\n",
    "\n",
    "# Calculate averages for each taxonomic level\n",
    "average_phylum <- calculate_averages(merged_data, \"phylum\")\n",
    "average_class <- calculate_averages(merged_data, \"class\")\n",
    "average_order <- calculate_averages(merged_data, \"order\")\n",
    "average_family <- calculate_averages(merged_data, \"family\")\n",
    "average_genus <- calculate_averages(merged_data, \"genus\")\n",
    "average_species <- calculate_averages(merged_data, \"species\")\n",
    "\n",
    "# Combine all results into one dataframe\n",
    "average_data <- bind_rows(\n",
    "  average_phylum %>% mutate(level = \"Phylum\"),\n",
    "  average_class %>% mutate(level = \"Class\"),\n",
    "  average_order %>% mutate(level = \"Order\"),\n",
    "  average_family %>% mutate(level = \"Family\"),\n",
    "  average_genus %>% mutate(level = \"Genus\"),\n",
    "  average_species %>% mutate(level = \"Species\")\n",
    ")\n",
    "average_data"
   ]
  },
  {
   "cell_type": "code",
   "execution_count": 8,
   "metadata": {
    "vscode": {
     "languageId": "r"
    }
   },
   "outputs": [],
   "source": [
    "taxon_names<-obj$taxon_names()\n",
    "\n",
    "# Function to get average values for a specific taxon name\n",
    "\n",
    "# Average dnds\n",
    "get_average_dnds <- function(taxon_name) {\n",
    "  avg_row <- average_data %>%\n",
    "    filter(taxon == !!taxon_name) %>%\n",
    "    select(average_dnds) \n",
    "    \n",
    "  return(avg_row$average_dnds) # Extract average dnds value only\n",
    "}\n",
    "\n",
    "# Average dnds with constant\n",
    "get_average_dnds_constant <- function(taxon_name) {\n",
    "  avg_row <- average_data %>%\n",
    "    filter(taxon == !!taxon_name) %>%\n",
    "    select(average_dnds_constant)  \n",
    "\n",
    "  return(avg_row$average_dnds_constant) # Extract average dnds with constant only\n",
    "}\n",
    "\n"
   ]
  },
  {
   "cell_type": "code",
   "execution_count": 9,
   "metadata": {
    "vscode": {
     "languageId": "r"
    }
   },
   "outputs": [],
   "source": [
    "# Create vectors of average dnds and average dnds with constant\n",
    "\n",
    "# sapply takes each element in taxon_names (obj$taxon_names()) and passes it to the get_average_dnds \n",
    "# and get_average_dnds_constant function.\n",
    "average_dnds_values <- sapply(taxon_names, get_average_dnds) \n",
    "average_dnds_constant_values <- sapply(taxon_names, get_average_dnds_constant)\n",
    "\n",
    "# Ensure the values are numeric and remove NA values where taxon_name is not found in the average_data\n",
    "average_dnds_values <- na.omit(as.numeric(average_dnds_values))\n",
    "average_dnds_constant_values <- na.omit(as.numeric(average_dnds_constant_values))\n",
    "\n"
   ]
  },
  {
   "cell_type": "code",
   "execution_count": 10,
   "metadata": {
    "vscode": {
     "languageId": "r"
    }
   },
   "outputs": [
    {
     "data": {
      "text/html": [
       "<style>\n",
       ".list-inline {list-style: none; margin:0; padding: 0}\n",
       ".list-inline>li {display: inline-block}\n",
       ".list-inline>li:not(:last-child)::after {content: \"\\00b7\"; padding: 0 .5ex}\n",
       "</style>\n",
       "<ol class=list-inline><li>1.04884490333313</li><li>1.04884490333313</li><li>1.04884490333313</li><li>0.989389163013694</li><li>0.957833910509832</li><li>0.989389163013694</li><li>0.957833910509832</li><li>0.989389163013694</li><li>0.957833910509832</li></ol>\n"
      ],
      "text/latex": [
       "\\begin{enumerate*}\n",
       "\\item 1.04884490333313\n",
       "\\item 1.04884490333313\n",
       "\\item 1.04884490333313\n",
       "\\item 0.989389163013694\n",
       "\\item 0.957833910509832\n",
       "\\item 0.989389163013694\n",
       "\\item 0.957833910509832\n",
       "\\item 0.989389163013694\n",
       "\\item 0.957833910509832\n",
       "\\end{enumerate*}\n"
      ],
      "text/markdown": [
       "1. 1.04884490333313\n",
       "2. 1.04884490333313\n",
       "3. 1.04884490333313\n",
       "4. 0.989389163013694\n",
       "5. 0.957833910509832\n",
       "6. 0.989389163013694\n",
       "7. 0.957833910509832\n",
       "8. 0.989389163013694\n",
       "9. 0.957833910509832\n",
       "\n",
       "\n"
      ],
      "text/plain": [
       "[1] 1.0488449 1.0488449 1.0488449 0.9893892 0.9578339 0.9893892 0.9578339\n",
       "[8] 0.9893892 0.9578339"
      ]
     },
     "metadata": {},
     "output_type": "display_data"
    }
   ],
   "source": [
    "average_dnds_constant_values"
   ]
  },
  {
   "cell_type": "code",
   "execution_count": 22,
   "metadata": {
    "vscode": {
     "languageId": "r"
    }
   },
   "outputs": [
    {
     "data": {
      "image/png": "[encoded data removed]",
      "text/plain": [
       "plot without title"
      ]
     },
     "metadata": {
      "image/png": {
       "height": 420,
       "width": 420
      }
     },
     "output_type": "display_data"
    }
   ],
   "source": [
    "library(scales)\n",
    "# Create a gradient of colors\n",
    "blue_gradient <- colorRampPalette(c(\"lightblue\", \"blue\"))(100) # generates 100 different shades within this gradient\n",
    "red_gradient <- colorRampPalette(c(\"lightcoral\", \"red\"))(100)\n",
    "\n",
    "# Function to map dnds values to appropriate colors\n",
    "# sapply applies a function to each average dnds and average dnds with constant\n",
    "map_dnds_to_colors <- function(dnds_values) {\n",
    "  colors <- sapply(dnds_values, function(x) {\n",
    "    if (is.na(x)) {\n",
    "      return(NA)\n",
    "    } else if (x < 1) {\n",
    "\n",
    "      # rescales x from the range [0, 1] to the range [1, 100] and  converts this rescaled value to an integer index\n",
    "      # since colorRampPalette generates 100 colors indexed from 1 to 100\n",
    "      return(blue_gradient[as.integer(rescale(x, to = c(1, 100), from = c(0, 1)))])\n",
    "    } else {\n",
    "      return(red_gradient[as.integer(rescale(x, to = c(1, 100), from = c(1, max(dnds_values, na.rm = TRUE))))])\n",
    "    }\n",
    "  })\n",
    "  return(colors)\n",
    "}\n",
    "\n",
    "# Apply the function to average dnds values and average dnds values with constant\n",
    "node_colors <- map_dnds_to_colors(average_dnds_constant_values)\n",
    "\n",
    "set.seed(10) # This makes the plot appear the same each time it is run \n",
    "# Create the heat tree with custom node colors and adjusted font size\n",
    "heat_tree(obj, \n",
    "          node_label = obj$taxon_names(),\n",
    "          node_size = obj$n_obs(), # The number of observations for each taxon\n",
    "          node_color = node_colors,\n",
    "          node_color_range = c(blue_gradient, red_gradient), # Ensure the legend reflects the custom color mapping\n",
    "          node_color_trans = \"linear\", # Ensure linear transition\n",
    "          node_color_interval = c(0, 2), # Ensure color transition happening at the midpoint (1) between 0 and 2\n",
    "          node_color_axis_label = \"average dN/dS values with constant\",\n",
    "          node_size_axis_label = \"node size\",\n",
    "          layout = \"davidson-harel\", # The primary layout algorithm\n",
    "          initial_layout = \"reingold-tilford\", # The layout algorithm that initializes node locations\n",
    "          node_label_size_range = c(0.04, 0.06)) # Adjust the font size range"
   ]
  }
 ],
 "metadata": {
  "kernelspec": {
   "display_name": "R",
   "language": "R",
   "name": "ir"
  },
  "language_info": {
   "codemirror_mode": "r",
   "file_extension": ".r",
   "mimetype": "text/x-r-source",
   "name": "R",
   "pygments_lexer": "r",
   "version": "4.3.3"
  }
 },
 "nbformat": 4,
 "nbformat_minor": 2
}
